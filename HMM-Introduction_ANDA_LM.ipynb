{
 "cells": [
  {
   "cell_type": "markdown",
   "metadata": {
    "nbpresent": {
     "id": "5918355f-c759-41e8-9cc9-64baf78695b3"
    }
   },
   "source": [
    "# Fitting a Hidden Markov Model\n",
    "#### Excerpted/condensed/expanded from SSM/notebooks\n",
    "####  Authors: David Wyrick, Luca Mazzucato, Scott Linderman"
   ]
  },
  {
   "cell_type": "markdown",
   "metadata": {},
   "source": [
    "Goals:\n",
    "\n",
    "1. Sample size. Generate 10 min with 100 neurons, Poisson HMM. Find shortest sample that gives back ground truth.\n",
    "\n",
    "2. GLM-HMM."
   ]
  },
  {
   "cell_type": "markdown",
   "metadata": {
    "nbpresent": {
     "id": "2b6476b4-bceb-48bc-8957-e943d943c162"
    }
   },
   "source": [
    "We're going to show how to fit a HMM using the State-Space-Modelling code written by [Scott Linderman](https://github.com/lindermanlab/ssm). To start, we will generate synthetic data from a ground-truth instantiation of the HMM class, and fit another HMM to that generated data. A HMM with gaussian observitions is the simplest graphical model available in _SSM_, and is the building block for more complicated HMMs like Auto-Regressive HMMs. We will start with this model and then move on to fitting a HMM with poisson observations. \n"
   ]
  },
  {
   "cell_type": "code",
   "execution_count": 50,
   "metadata": {},
   "outputs": [
    {
     "name": "stdout",
     "output_type": "stream",
     "text": [
      "\u001b[31mERROR: Could not open requirements file: [Errno 2] No such file or directory: 'requirements.txt'\u001b[0m\n",
      "\u001b[33mWARNING: You are using pip version 20.1.1; however, version 21.1 is available.\n",
      "You should consider upgrading via the '/home/luca/ssm_env/bin/python3.7 -m pip install --upgrade pip' command.\u001b[0m\n",
      "Note: you may need to restart the kernel to use updated packages.\n"
     ]
    }
   ],
   "source": [
    "# Run and restart the kernel before proceeding\n",
    "%pip install -U -r requirements.txt > /dev/null"
   ]
  },
  {
   "cell_type": "code",
   "execution_count": 51,
   "metadata": {
    "nbpresent": {
     "id": "346a61a3-9216-480d-b5b8-39a78782a8c3"
    }
   },
   "outputs": [],
   "source": [
    "import autograd.numpy as np\n",
    "import autograd.numpy.random as npr\n",
    "npr.seed(3)\n",
    "\n",
    "import ssm\n",
    "from ssm.util import find_permutation\n",
    "from ssm.plots import gradient_cmap, white_to_color_cmap\n",
    "\n",
    "import matplotlib.pyplot as plt\n",
    "%matplotlib inline\n",
    "\n",
    "import seaborn as sns\n",
    "sns.set_style(\"white\")\n",
    "sns.set_context(\"talk\")\n",
    "\n",
    "color_names = [\n",
    "    \"windows blue\",\n",
    "    \"red\",\n",
    "    \"amber\",\n",
    "    \"faded green\",\n",
    "    \"dusty purple\",\n",
    "    \"orange\"\n",
    "    ]\n",
    "\n",
    "colors = sns.xkcd_palette(color_names)\n",
    "cmap = gradient_cmap(colors)\n"
   ]
  },
  {
   "cell_type": "markdown",
   "metadata": {
    "nbpresent": {
     "id": "e6b9c054-f24c-4271-85b5-0a8e795dc333"
    }
   },
   "source": [
    "## Overview\n",
    "\n",
    "An HMM consists of a set of hidden state variable, $z$, which can take on one of $K$ values (for our purposes, HMMs will always have discrete states), along with a set of transition probabilities for how the hidden state evolves over time. \n",
    "In other words, we have $z_t \\in \\{1, \\ldots, K\\}$, where $z_t = k$ denotes that the hidden variable is in state $k$ at time $t$.\n",
    "\n",
    "\n",
    "The key assumption in an HMM is that only the most recent state affects the next state. In mathematical terms:\n",
    "\n",
    "$$\n",
    "p(z_t \\mid z_{t-1}, z_{t-2}, \\ldots, z_1) = p(z_t \\mid z_{t-1})\n",
    "$$\n",
    "\n",
    "In an HMM, we don't observe the state itself. Instead, we get a noisy observation of the state at each time step according to some observation model. We'll use $x_t$ to denote the observation at time step $t$. The observation can be a vector or scalar. We'll use $D$ to refer to the dimensionality of the observation. A few of the supported observation models are:\n",
    "\n",
    "1. **Gaussian**: Each discrete state $z_t = k$ is associated with a $D$-dimensional mean $\\mu_k$ and covariance matrix $\\Sigma_k$. Each observation $z_t$ comes from a Gaussian distribution centered at the associated mean, with the corresponding covariance.\n",
    "\n",
    "2. **Poisson**: Each discrete state $z_t = k$ is associated with a $D$-dimensional rate $\\lambda_k$ that determines the probability of observing x events (spikes) with each time window for any given unit (neuron).\n",
    "\n",
    "Note: _SSM_ supports many other observation models for HMMs. Check them out in the source code (observations.py)! "
   ]
  },
  {
   "cell_type": "code",
   "execution_count": 52,
   "metadata": {
    "nbpresent": {
     "id": "564edd16-a99d-4329-8e31-98fe1e1cef79"
    }
   },
   "outputs": [],
   "source": [
    "##===== Let's create a ground-truth HMM from which to generate data from =====##\n",
    "# Set the parameters of the HMM\n",
    "time_bins = 200   # number of time bins\n",
    "num_states = 5    # number of discrete states\n",
    "obs_dim = 3       # dimensionality of observation\n",
    "\n",
    "# Make an HMM\n",
    "true_hmm = ssm.HMM(num_states, obs_dim, observations=\"gaussian\")\n",
    "\n",
    "# Manually tweak the means to make them farther apart\n",
    "thetas = np.linspace(0.5, obs_dim * np.pi, num_states, endpoint=False)\n",
    "mus0=[None]*obs_dim;\n",
    "for k in range(obs_dim):\n",
    "    mus0[k]=thetas*np.random.rand(num_states)\n",
    "# true_hmm.observations.mus = 3 * np.column_stack((np.cos(thetas), np.sin(thetas)))\n",
    "true_hmm.observations.mus = 3 * np.column_stack(mus0)"
   ]
  },
  {
   "cell_type": "code",
   "execution_count": 53,
   "metadata": {},
   "outputs": [],
   "source": [
    "##===== Use HMM as a generative model =====##\n",
    "time_bins = 1000\n",
    "true_states, synthetic_data = true_hmm.sample(time_bins)\n",
    "\n",
    "#As a baseline, let's calculate the log proability of the synthetic data given the current model parameters\n",
    "true_ll = true_hmm.log_probability(synthetic_data)"
   ]
  },
  {
   "cell_type": "code",
   "execution_count": 59,
   "metadata": {},
   "outputs": [
    {
     "name": "stdout",
     "output_type": "stream",
     "text": [
      "1000\n",
      "[[-0.32632231  0.20767153  1.37200564]\n",
      " [ 0.06022727 -0.10548822  2.01966818]\n",
      " [ 2.27030459 -1.11159022  4.84136081]\n",
      " [-1.30876727  0.18889581  0.46244595]\n",
      " [ 2.73685041  2.87469139  0.3117919 ]\n",
      " [ 4.77700096  1.91844003  5.60402714]\n",
      " [ 3.91066424  2.17095175  7.80617029]\n",
      " [ 2.56677866  4.57045356  7.26067669]\n",
      " [ 3.13468776  2.5554508   7.48312913]\n",
      " [ 4.13308656  1.61957624  6.41103474]\n",
      " [ 3.61277012  2.51182695  7.30310523]]\n",
      "[0 0 0 0 0 1 1 1 1 1 1]\n"
     ]
    }
   ],
   "source": [
    "print(len(synthetic_data))\n",
    "print(synthetic_data[0:11][:])\n",
    "print(true_states[0:11])\n",
    "\n",
    "# object_methods = [method_name for method_name in dir(true_hmm)\n",
    "#                   if callable(getattr(true_hmm, method_name))]\n",
    "# print(object_methods)\n"
   ]
  },
  {
   "cell_type": "code",
   "execution_count": 116,
   "metadata": {},
   "outputs": [
    {
     "name": "stdout",
     "output_type": "stream",
     "text": [
      "[0.75375328 0.13724943]\n",
      "[260.05852785 110.97158035]\n",
      "[[[ 3.47774728  1.34291637  1.14602769]\n",
      "  [ 1.34291637  2.17610816 -1.54153806]\n",
      "  [ 1.14602769 -1.54153806  3.00052143]]\n",
      "\n",
      " [[ 2.05852044 -2.0188336  -1.46450107]\n",
      "  [-2.0188336   3.54699001  1.68491091]\n",
      "  [-1.46450107  1.68491091  2.85730022]]\n",
      "\n",
      " [[ 5.24541552 -4.49144073 -2.35949969]\n",
      "  [-4.49144073  4.38244847  1.45783933]\n",
      "  [-2.35949969  1.45783933  1.6632871 ]]\n",
      "\n",
      " [[ 8.51120034 -2.13339395 -1.24293558]\n",
      "  [-2.13339395  0.73286454  0.69984713]\n",
      "  [-1.24293558  0.69984713  1.8410247 ]]\n",
      "\n",
      " [[ 3.53638118 -0.01513346  2.43413571]\n",
      "  [-0.01513346  0.35095668 -0.01559518]\n",
      "  [ 2.43413571 -0.01559518  2.07572033]]]\n",
      "[[1.08652415 1.26990717]\n",
      " [1.26990717 2.45752095]]\n"
     ]
    }
   ],
   "source": [
    "from sklearn.decomposition import PCA\n",
    "X = np.array([[-1, -1,3], [-2, -1,3], [-3, -2,5], [1, 1,3], [2, 1,1], [3, 2,3]])\n",
    "pca = PCA(n_components=2)\n",
    "pca.fit(synthetic_data)\n",
    "# PCA(n_components=2)\n",
    "print(pca.explained_variance_ratio_)\n",
    "print(pca.singular_values_)\n",
    "synth_pca=pca.transform(synthetic_data)\n",
    "print(true_hmm.observations.Sigmas)\n",
    "eig_pca=pca.components_\n",
    "print(eig_pca.dot(true_hmm.observations.Sigmas[k]).dot(eig_pca.T))\n",
    "t = [ [0]*2 for i in range(num_states)]"
   ]
  },
  {
   "cell_type": "code",
   "execution_count": 112,
   "metadata": {},
   "outputs": [
    {
     "name": "stderr",
     "output_type": "stream",
     "text": [
      "/home/luca/ssm_env/lib/python3.7/site-packages/ipykernel_launcher.py:19: UserWarning: No contour levels were found within the data range.\n",
      "/home/luca/ssm_env/lib/python3.7/site-packages/ipykernel_launcher.py:20: UserWarning: No contour levels were found within the data range.\n",
      "/home/luca/ssm_env/lib/python3.7/site-packages/ipykernel_launcher.py:19: UserWarning: No contour levels were found within the data range.\n",
      "/home/luca/ssm_env/lib/python3.7/site-packages/ipykernel_launcher.py:20: UserWarning: No contour levels were found within the data range.\n",
      "/home/luca/ssm_env/lib/python3.7/site-packages/ipykernel_launcher.py:19: UserWarning: No contour levels were found within the data range.\n",
      "/home/luca/ssm_env/lib/python3.7/site-packages/ipykernel_launcher.py:20: UserWarning: No contour levels were found within the data range.\n",
      "/home/luca/ssm_env/lib/python3.7/site-packages/ipykernel_launcher.py:19: UserWarning: No contour levels were found within the data range.\n",
      "/home/luca/ssm_env/lib/python3.7/site-packages/ipykernel_launcher.py:20: UserWarning: No contour levels were found within the data range.\n",
      "/home/luca/ssm_env/lib/python3.7/site-packages/ipykernel_launcher.py:19: UserWarning: No contour levels were found within the data range.\n",
      "/home/luca/ssm_env/lib/python3.7/site-packages/ipykernel_launcher.py:20: UserWarning: No contour levels were found within the data range.\n"
     ]
    },
    {
     "data": {
      "text/plain": [
       "Text(0.5, 1.0, 'Observation Distributions')"
      ]
     },
     "execution_count": 112,
     "metadata": {},
     "output_type": "execute_result"
    },
    {
     "data": {
      "image/png": "[encoded data removed]",
      "text/plain": [
       "<Figure size 432x432 with 1 Axes>"
      ]
     },
     "metadata": {},
     "output_type": "display_data"
    }
   ],
   "source": [
    "from scipy.stats import multivariate_normal\n",
    "plt.figure(figsize=(6, 6))\n",
    "mus_pca=pca.transform(true_hmm.observations.mus)\n",
    "sigmas_pca = [ [0]*3 for i in range(obs_dim)]\n",
    "for k in range(num_states):\n",
    "    sigmas_pca[k]=eig_pca.dot(true_hmm.observations.Sigmas[k]).dot(eig_pca.T)\n",
    "#create mesh grid\n",
    "lim = .85 * abs(synth_PCA).max()\n",
    "XX, YY = np.meshgrid(np.linspace(-lim, lim, 100), np.linspace(-lim, lim, 100))\n",
    "data = np.column_stack((XX.ravel(), YY.ravel()))\n",
    "for k in range(num_states):\n",
    "#     plt.contour(XX, YY, np.exp(lls[:,k]).reshape(XX.shape), cmap=white_to_color_cmap(colors[k]))\n",
    "    plt.plot(synth_pca[true_states==k, 0], synth_pca[true_states==k, 1], '.', mfc=colors[k], mec='none', ms=4)\n",
    "    # overlay the true emissions\n",
    "    plt.plot(mus_pca[k][0], mus_pca[k][1], 'd', mfc=colors[k], mec='none', ms=10)\n",
    "    # overlay the true covariance matrix \n",
    "    rv = multivariate_normal(mus_pca[k], sigmas_pca[k])\n",
    "    pos = np.dstack((XX, YY))\n",
    "    plt.contour(XX, YY, rv.pdf(pos),0.5, cmap=white_to_color_cmap(colors[k]),linewidths=3,linestyles='dashed')\n",
    "    plt.contour(XX, YY, rv.pdf(pos),0.5,linewidths=3,linestyles='dashed')\n",
    "    \n",
    "# plt.plot(synthetic_data[:,0], synthetic_data[:,1], 'k', lw=1, alpha=.25)\n",
    "plt.xlabel(\"$x_1$\")\n",
    "plt.ylabel(\"$x_2$\")\n",
    "plt.title(\"Observation Distributions\")"
   ]
  },
  {
   "cell_type": "code",
   "execution_count": 82,
   "metadata": {
    "nbpresent": {
     "id": "c9b4a46a-2f86-4b7f-adb6-70c667a1ac67"
    }
   },
   "outputs": [
    {
     "ename": "AssertionError",
     "evalue": "",
     "output_type": "error",
     "traceback": [
      "\u001b[0;31m---------------------------------------------------------------------------\u001b[0m",
      "\u001b[0;31mAssertionError\u001b[0m                            Traceback (most recent call last)",
      "\u001b[0;32m<ipython-input-82-c7a8b6d241d1>\u001b[0m in \u001b[0;36m<module>\u001b[0;34m\u001b[0m\n\u001b[1;32m      8\u001b[0m \u001b[0;34m\u001b[0m\u001b[0m\n\u001b[1;32m      9\u001b[0m \u001b[0;31m#Get log-likelihood of mesh grid so we can plot the probability density\u001b[0m\u001b[0;34m\u001b[0m\u001b[0;34m\u001b[0m\u001b[0;34m\u001b[0m\u001b[0m\n\u001b[0;32m---> 10\u001b[0;31m \u001b[0mlls\u001b[0m \u001b[0;34m=\u001b[0m \u001b[0mtrue_hmm\u001b[0m\u001b[0;34m.\u001b[0m\u001b[0mobservations\u001b[0m\u001b[0;34m.\u001b[0m\u001b[0mlog_likelihoods\u001b[0m\u001b[0;34m(\u001b[0m\u001b[0mdata\u001b[0m\u001b[0;34m,\u001b[0m \u001b[0mnp\u001b[0m\u001b[0;34m.\u001b[0m\u001b[0mzeros\u001b[0m\u001b[0;34m(\u001b[0m\u001b[0;34m(\u001b[0m\u001b[0mdata\u001b[0m\u001b[0;34m.\u001b[0m\u001b[0mshape\u001b[0m\u001b[0;34m[\u001b[0m\u001b[0;36m0\u001b[0m\u001b[0;34m]\u001b[0m\u001b[0;34m,\u001b[0m \u001b[0;36m0\u001b[0m\u001b[0;34m)\u001b[0m\u001b[0;34m)\u001b[0m\u001b[0;34m,\u001b[0m \u001b[0mnp\u001b[0m\u001b[0;34m.\u001b[0m\u001b[0mones_like\u001b[0m\u001b[0;34m(\u001b[0m\u001b[0mdata\u001b[0m\u001b[0;34m,\u001b[0m \u001b[0mdtype\u001b[0m\u001b[0;34m=\u001b[0m\u001b[0mbool\u001b[0m\u001b[0;34m)\u001b[0m\u001b[0;34m,\u001b[0m \u001b[0;32mNone\u001b[0m\u001b[0;34m)\u001b[0m\u001b[0;34m\u001b[0m\u001b[0;34m\u001b[0m\u001b[0m\n\u001b[0m",
      "\u001b[0;32m~/ssm/ssm/observations.py\u001b[0m in \u001b[0;36mlog_likelihoods\u001b[0;34m(self, data, input, mask, tag)\u001b[0m\n\u001b[1;32m    128\u001b[0m         \u001b[0;31m# arrays as inputs\u001b[0m\u001b[0;34m\u001b[0m\u001b[0;34m\u001b[0m\u001b[0;34m\u001b[0m\u001b[0m\n\u001b[1;32m    129\u001b[0m         return np.column_stack([stats.multivariate_normal_logpdf(data, mu, Sigma)\n\u001b[0;32m--> 130\u001b[0;31m                                for mu, Sigma in zip(mus, Sigmas)])\n\u001b[0m\u001b[1;32m    131\u001b[0m \u001b[0;34m\u001b[0m\u001b[0m\n\u001b[1;32m    132\u001b[0m     \u001b[0;32mdef\u001b[0m \u001b[0msample_x\u001b[0m\u001b[0;34m(\u001b[0m\u001b[0mself\u001b[0m\u001b[0;34m,\u001b[0m \u001b[0mz\u001b[0m\u001b[0;34m,\u001b[0m \u001b[0mxhist\u001b[0m\u001b[0;34m,\u001b[0m \u001b[0minput\u001b[0m\u001b[0;34m=\u001b[0m\u001b[0;32mNone\u001b[0m\u001b[0;34m,\u001b[0m \u001b[0mtag\u001b[0m\u001b[0;34m=\u001b[0m\u001b[0;32mNone\u001b[0m\u001b[0;34m,\u001b[0m \u001b[0mwith_noise\u001b[0m\u001b[0;34m=\u001b[0m\u001b[0;32mTrue\u001b[0m\u001b[0;34m)\u001b[0m\u001b[0;34m:\u001b[0m\u001b[0;34m\u001b[0m\u001b[0;34m\u001b[0m\u001b[0m\n",
      "\u001b[0;32m~/ssm/ssm/observations.py\u001b[0m in \u001b[0;36m<listcomp>\u001b[0;34m(.0)\u001b[0m\n\u001b[1;32m    128\u001b[0m         \u001b[0;31m# arrays as inputs\u001b[0m\u001b[0;34m\u001b[0m\u001b[0;34m\u001b[0m\u001b[0;34m\u001b[0m\u001b[0m\n\u001b[1;32m    129\u001b[0m         return np.column_stack([stats.multivariate_normal_logpdf(data, mu, Sigma)\n\u001b[0;32m--> 130\u001b[0;31m                                for mu, Sigma in zip(mus, Sigmas)])\n\u001b[0m\u001b[1;32m    131\u001b[0m \u001b[0;34m\u001b[0m\u001b[0m\n\u001b[1;32m    132\u001b[0m     \u001b[0;32mdef\u001b[0m \u001b[0msample_x\u001b[0m\u001b[0;34m(\u001b[0m\u001b[0mself\u001b[0m\u001b[0;34m,\u001b[0m \u001b[0mz\u001b[0m\u001b[0;34m,\u001b[0m \u001b[0mxhist\u001b[0m\u001b[0;34m,\u001b[0m \u001b[0minput\u001b[0m\u001b[0;34m=\u001b[0m\u001b[0;32mNone\u001b[0m\u001b[0;34m,\u001b[0m \u001b[0mtag\u001b[0m\u001b[0;34m=\u001b[0m\u001b[0;32mNone\u001b[0m\u001b[0;34m,\u001b[0m \u001b[0mwith_noise\u001b[0m\u001b[0;34m=\u001b[0m\u001b[0;32mTrue\u001b[0m\u001b[0;34m)\u001b[0m\u001b[0;34m:\u001b[0m\u001b[0;34m\u001b[0m\u001b[0;34m\u001b[0m\u001b[0m\n",
      "\u001b[0;32m~/ssm/ssm/stats.py\u001b[0m in \u001b[0;36mmultivariate_normal_logpdf\u001b[0;34m(data, mus, Sigmas, mask)\u001b[0m\n\u001b[1;32m    143\u001b[0m     \u001b[0;31m# Check inputs\u001b[0m\u001b[0;34m\u001b[0m\u001b[0;34m\u001b[0m\u001b[0;34m\u001b[0m\u001b[0m\n\u001b[1;32m    144\u001b[0m     \u001b[0mD\u001b[0m \u001b[0;34m=\u001b[0m \u001b[0mdata\u001b[0m\u001b[0;34m.\u001b[0m\u001b[0mshape\u001b[0m\u001b[0;34m[\u001b[0m\u001b[0;34m-\u001b[0m\u001b[0;36m1\u001b[0m\u001b[0;34m]\u001b[0m\u001b[0;34m\u001b[0m\u001b[0;34m\u001b[0m\u001b[0m\n\u001b[0;32m--> 145\u001b[0;31m     \u001b[0;32massert\u001b[0m \u001b[0mmus\u001b[0m\u001b[0;34m.\u001b[0m\u001b[0mshape\u001b[0m\u001b[0;34m[\u001b[0m\u001b[0;34m-\u001b[0m\u001b[0;36m1\u001b[0m\u001b[0;34m]\u001b[0m \u001b[0;34m==\u001b[0m \u001b[0mD\u001b[0m\u001b[0;34m\u001b[0m\u001b[0;34m\u001b[0m\u001b[0m\n\u001b[0m\u001b[1;32m    146\u001b[0m     \u001b[0;32massert\u001b[0m \u001b[0mSigmas\u001b[0m\u001b[0;34m.\u001b[0m\u001b[0mshape\u001b[0m\u001b[0;34m[\u001b[0m\u001b[0;34m-\u001b[0m\u001b[0;36m2\u001b[0m\u001b[0;34m]\u001b[0m \u001b[0;34m==\u001b[0m \u001b[0mSigmas\u001b[0m\u001b[0;34m.\u001b[0m\u001b[0mshape\u001b[0m\u001b[0;34m[\u001b[0m\u001b[0;34m-\u001b[0m\u001b[0;36m1\u001b[0m\u001b[0;34m]\u001b[0m \u001b[0;34m==\u001b[0m \u001b[0mD\u001b[0m\u001b[0;34m\u001b[0m\u001b[0;34m\u001b[0m\u001b[0m\n\u001b[1;32m    147\u001b[0m \u001b[0;34m\u001b[0m\u001b[0m\n",
      "\u001b[0;31mAssertionError\u001b[0m: "
     ]
    }
   ],
   "source": [
    "##===== Plot the observation distributions in PC1 PC2 space=====##\n",
    "\n",
    "lim = .85 * abs(synth_PCA).max()\n",
    "\n",
    "#create mesh grid\n",
    "XX, YY = np.meshgrid(np.linspace(-lim, lim, 100), np.linspace(-lim, lim, 100))\n",
    "data = np.column_stack((XX.ravel(), YY.ravel()))\n",
    "\n",
    "#Get log-likelihood of mesh grid so we can plot the probability density\n",
    "lls = true_hmm.observations.log_likelihoods(data, np.zeros((data.shape[0], 0)), np.ones_like(data, dtype=bool), None)"
   ]
  },
  {
   "cell_type": "markdown",
   "metadata": {
    "nbpresent": {
     "id": "a201a5b1-0cff-4e1f-9367-c25a89ebac41"
    }
   },
   "source": [
    "Below, we plot the samples obtained from the HMM, color-coded according to the underlying state. The solid curves show regions of of equal probability density around each mean. The thin gray lines trace the latent variable as it transitions from one state to another."
   ]
  },
  {
   "cell_type": "code",
   "execution_count": 56,
   "metadata": {},
   "outputs": [
    {
     "data": {
      "text/plain": [
       "array([[ 1.11712849,  0.82926686,  1.45814755],\n",
       "       [ 4.52644612,  1.34616269,  5.83329569],\n",
       "       [11.15939448,  2.34515156,  6.63714189],\n",
       "       [11.13008237, 12.74609692,  1.57714074],\n",
       "       [ 8.3871632 , 17.99033095, 11.20471425]])"
      ]
     },
     "execution_count": 56,
     "metadata": {},
     "output_type": "execute_result"
    }
   ],
   "source": [
    "true_hmm.observations.mus"
   ]
  },
  {
   "cell_type": "code",
   "execution_count": 104,
   "metadata": {},
   "outputs": [],
   "source": []
  },
  {
   "cell_type": "code",
   "execution_count": 49,
   "metadata": {
    "nbpresent": {
     "id": "0feabc13-812b-4d5e-ac24-f8327ecb4d27"
    }
   },
   "outputs": [
    {
     "ename": "NameError",
     "evalue": "name 'XX' is not defined",
     "output_type": "error",
     "traceback": [
      "\u001b[0;31m---------------------------------------------------------------------------\u001b[0m",
      "\u001b[0;31mNameError\u001b[0m                                 Traceback (most recent call last)",
      "\u001b[0;32m<ipython-input-49-9987caa56f13>\u001b[0m in \u001b[0;36m<module>\u001b[0;34m\u001b[0m\n\u001b[1;32m      1\u001b[0m \u001b[0mplt\u001b[0m\u001b[0;34m.\u001b[0m\u001b[0mfigure\u001b[0m\u001b[0;34m(\u001b[0m\u001b[0mfigsize\u001b[0m\u001b[0;34m=\u001b[0m\u001b[0;34m(\u001b[0m\u001b[0;36m6\u001b[0m\u001b[0;34m,\u001b[0m \u001b[0;36m6\u001b[0m\u001b[0;34m)\u001b[0m\u001b[0;34m)\u001b[0m\u001b[0;34m\u001b[0m\u001b[0;34m\u001b[0m\u001b[0m\n\u001b[1;32m      2\u001b[0m \u001b[0;32mfor\u001b[0m \u001b[0mk\u001b[0m \u001b[0;32min\u001b[0m \u001b[0mrange\u001b[0m\u001b[0;34m(\u001b[0m\u001b[0mnum_states\u001b[0m\u001b[0;34m)\u001b[0m\u001b[0;34m:\u001b[0m\u001b[0;34m\u001b[0m\u001b[0;34m\u001b[0m\u001b[0m\n\u001b[0;32m----> 3\u001b[0;31m     \u001b[0mplt\u001b[0m\u001b[0;34m.\u001b[0m\u001b[0mcontour\u001b[0m\u001b[0;34m(\u001b[0m\u001b[0mXX\u001b[0m\u001b[0;34m,\u001b[0m \u001b[0mYY\u001b[0m\u001b[0;34m,\u001b[0m \u001b[0mnp\u001b[0m\u001b[0;34m.\u001b[0m\u001b[0mexp\u001b[0m\u001b[0;34m(\u001b[0m\u001b[0mlls\u001b[0m\u001b[0;34m[\u001b[0m\u001b[0;34m:\u001b[0m\u001b[0;34m,\u001b[0m\u001b[0mk\u001b[0m\u001b[0;34m]\u001b[0m\u001b[0;34m)\u001b[0m\u001b[0;34m.\u001b[0m\u001b[0mreshape\u001b[0m\u001b[0;34m(\u001b[0m\u001b[0mXX\u001b[0m\u001b[0;34m.\u001b[0m\u001b[0mshape\u001b[0m\u001b[0;34m)\u001b[0m\u001b[0;34m,\u001b[0m \u001b[0mcmap\u001b[0m\u001b[0;34m=\u001b[0m\u001b[0mwhite_to_color_cmap\u001b[0m\u001b[0;34m(\u001b[0m\u001b[0mcolors\u001b[0m\u001b[0;34m[\u001b[0m\u001b[0mk\u001b[0m\u001b[0;34m]\u001b[0m\u001b[0;34m)\u001b[0m\u001b[0;34m)\u001b[0m\u001b[0;34m\u001b[0m\u001b[0;34m\u001b[0m\u001b[0m\n\u001b[0m\u001b[1;32m      4\u001b[0m     \u001b[0mplt\u001b[0m\u001b[0;34m.\u001b[0m\u001b[0mplot\u001b[0m\u001b[0;34m(\u001b[0m\u001b[0msynthetic_data\u001b[0m\u001b[0;34m[\u001b[0m\u001b[0mtrue_states\u001b[0m\u001b[0;34m==\u001b[0m\u001b[0mk\u001b[0m\u001b[0;34m,\u001b[0m \u001b[0;36m0\u001b[0m\u001b[0;34m]\u001b[0m\u001b[0;34m,\u001b[0m \u001b[0msynthetic_data\u001b[0m\u001b[0;34m[\u001b[0m\u001b[0mtrue_states\u001b[0m\u001b[0;34m==\u001b[0m\u001b[0mk\u001b[0m\u001b[0;34m,\u001b[0m \u001b[0;36m1\u001b[0m\u001b[0;34m]\u001b[0m\u001b[0;34m,\u001b[0m \u001b[0;34m'.'\u001b[0m\u001b[0;34m,\u001b[0m \u001b[0mmfc\u001b[0m\u001b[0;34m=\u001b[0m\u001b[0mcolors\u001b[0m\u001b[0;34m[\u001b[0m\u001b[0mk\u001b[0m\u001b[0;34m]\u001b[0m\u001b[0;34m,\u001b[0m \u001b[0mmec\u001b[0m\u001b[0;34m=\u001b[0m\u001b[0;34m'none'\u001b[0m\u001b[0;34m,\u001b[0m \u001b[0mms\u001b[0m\u001b[0;34m=\u001b[0m\u001b[0;36m4\u001b[0m\u001b[0;34m)\u001b[0m\u001b[0;34m\u001b[0m\u001b[0;34m\u001b[0m\u001b[0m\n\u001b[1;32m      5\u001b[0m     \u001b[0;31m# overlay the true emissions\u001b[0m\u001b[0;34m\u001b[0m\u001b[0;34m\u001b[0m\u001b[0;34m\u001b[0m\u001b[0m\n",
      "\u001b[0;31mNameError\u001b[0m: name 'XX' is not defined"
     ]
    },
    {
     "data": {
      "text/plain": [
       "<Figure size 432x432 with 0 Axes>"
      ]
     },
     "metadata": {},
     "output_type": "display_data"
    }
   ],
   "source": [
    "plt.figure(figsize=(6, 6))\n",
    "for k in range(num_states):\n",
    "    plt.contour(XX, YY, np.exp(lls[:,k]).reshape(XX.shape), cmap=white_to_color_cmap(colors[k]))\n",
    "    plt.plot(synthetic_data[true_states==k, 0], synthetic_data[true_states==k, 1], '.', mfc=colors[k], mec='none', ms=4)\n",
    "    # overlay the true emissions\n",
    "    plt.plot(true_hmm.observations.mus[k][0], true_hmm.observations.mus[k][1], 'd', mfc=colors[k], mec='none', ms=10)\n",
    "    # overlay the true covariance matrix \n",
    "    rv = multivariate_normal(true_hmm.observations.mus[k], true_hmm.observations.Sigmas[k])\n",
    "    pos = np.dstack((XX, YY))\n",
    "#     plt.contour(XX, YY, rv.pdf(pos),0.5, cmap=white_to_color_cmap(colors[k]),linewidths=3,linestyles='dashed')\n",
    "#     plt.contour(XX, YY, rv.pdf(pos),0.5,linewidths=3,linestyles='dashed')\n",
    "    \n",
    "# plt.plot(synthetic_data[:,0], synthetic_data[:,1], 'k', lw=1, alpha=.25)\n",
    "plt.xlabel(\"$x_1$\")\n",
    "plt.ylabel(\"$x_2$\")\n",
    "plt.title(\"Observation Distributions\")\n"
   ]
  },
  {
   "cell_type": "markdown",
   "metadata": {
    "nbpresent": {
     "id": "a58c7a02-2777-4af8-982f-e279bd3bbeb6"
    }
   },
   "source": [
    "Below, we visualize each component of of the observation variable as a time series. The colors correspond to the latent state. The dotted lines represent the \"true\" values of the observation variable (the mean) while the solid lines are the actual observations sampled from the HMM."
   ]
  },
  {
   "cell_type": "code",
   "execution_count": 90,
   "metadata": {
    "nbpresent": {
     "id": "1ec5ac27-2d23-4660-8702-4156f8ffdf39"
    }
   },
   "outputs": [
    {
     "data": {
      "image/png": "[encoded data removed]",
      "text/plain": [
       "<Figure size 576x432 with 1 Axes>"
      ]
     },
     "metadata": {},
     "output_type": "display_data"
    }
   ],
   "source": [
    "##===== Plot the data and latent states over time =====##\n",
    "lim = 1.05 * abs(synthetic_data).max()\n",
    "time_bins = 200\n",
    "plt.figure(figsize=(8, 6))\n",
    "plt.imshow(true_states[None,:time_bins],\n",
    "           aspect=\"auto\",\n",
    "           cmap=cmap,\n",
    "           vmin=0,\n",
    "           vmax=len(colors)-1,\n",
    "           extent=(0, time_bins, -lim, (obs_dim)*lim))\n",
    "\n",
    "#Get the average value for each state\n",
    "Ey = true_hmm.observations.mus[true_states]\n",
    "\n",
    "#On the same figure, plot the generated data with the latent state which generated it\n",
    "for d in range(obs_dim):\n",
    "    plt.plot(synthetic_data[:,d] + lim * d, '-k')\n",
    "    plt.plot(Ey[:,d] + lim * d, ':k')\n",
    "\n",
    "#Plotting parameters\n",
    "plt.xlim(0, time_bins)\n",
    "plt.xlabel(\"time\")\n",
    "plt.yticks(lim * np.arange(obs_dim), [\"$x_{}$\".format(d+1) for d in range(obs_dim)])\n",
    "plt.title(\"Simulated data from an HMM\")\n",
    "plt.tight_layout()\n"
   ]
  },
  {
   "cell_type": "code",
   "execution_count": 92,
   "metadata": {},
   "outputs": [
    {
     "data": {
      "image/png": "[encoded data removed]",
      "text/plain": [
       "<Figure size 864x432 with 2 Axes>"
      ]
     },
     "metadata": {},
     "output_type": "display_data"
    }
   ],
   "source": [
    "##============ Alternative plot of synth data with heat map ==============##\n",
    "fig, axes = plt.subplots(2,1,figsize=(12, 6))\n",
    "time_bins = 200\n",
    "implot=np.array(synthetic_data[:time_bins]).T\n",
    "axes[0].imshow(implot[:time_bins],\n",
    "           cmap='gray', aspect='auto', interpolation='none')\n",
    "axes[0].set_ylim(-0.5,obs_dim-0.5)\n",
    "axes[0].set_ylabel('obs')\n",
    "axes[0].set_yticks((0,1))\n",
    "# plt.colorbar(axes[0])\n",
    "\n",
    "z2_plot=axes[1].imshow(true_states[None,:time_bins],\n",
    "           aspect=\"auto\",\n",
    "           cmap=cmap,\n",
    "           vmin=0,\n",
    "           vmax=len(colors)-1)\n",
    "axes[1].set_yticklabels(())\n",
    "plt.tight_layout()"
   ]
  },
  {
   "cell_type": "markdown",
   "metadata": {
    "nbpresent": {
     "id": "759699ce-fffa-4667-90af-267122e39f01"
    }
   },
   "source": [
    "# Fit an HMM to synthetic data\n",
    "This is all fine, but so far we haven't done anything that useful. It's far more interesting to learn an HMM from data. In the following cells, we'll use the synthetic data we generated above to fit an HMM from scratch. This is done in the following lines:\n",
    "\n",
    "`\n",
    "hmm = ssm.HMM(num_states, obs_dim, observations=\"gaussian\")\n",
    "hmm_lls = hmm.fit(obs, method=\"em\", num_em_iters=N_iters)\n",
    "`\n",
    "\n",
    "In the first line, we create a new HMM instance called `hmm` with a gaussian observation model, as in the previous case. Because we haven't specified anything, the transition probabilities and observation means will be randomly initialized. In the next line, we use the `fit` method to learn the transition probabilities and observation means from data. We set the method to `em` (expectation maximization) and specify the maximum number of iterations which will be used to fit the data. The `fit` method returns a numpy array which shows the log-likelihood of the data over time. We then plot this and see that the EM algorithm quickly converges."
   ]
  },
  {
   "cell_type": "code",
   "execution_count": 98,
   "metadata": {
    "nbpresent": {
     "id": "d9064e18-01ca-43d4-a866-1b796cc94297"
    }
   },
   "outputs": [
    {
     "ename": "ValueError",
     "evalue": "operands could not be broadcast together with shapes (5,2,2) (10,10) ",
     "output_type": "error",
     "traceback": [
      "\u001b[0;31m---------------------------------------------------------------------------\u001b[0m",
      "\u001b[0;31mValueError\u001b[0m                                Traceback (most recent call last)",
      "\u001b[0;32m<ipython-input-98-195ef9e28419>\u001b[0m in \u001b[0;36m<module>\u001b[0;34m\u001b[0m\n\u001b[1;32m      9\u001b[0m \u001b[0;31m#Go look at the source code and marvel at how code should be written.\u001b[0m\u001b[0;34m\u001b[0m\u001b[0;34m\u001b[0m\u001b[0;34m\u001b[0m\u001b[0m\n\u001b[1;32m     10\u001b[0m \u001b[0;31m# hmm_lls = hmm.fit(synthetic_data, method=\"em\", num_iters=N_iters, init_method=\"kmeans\")\u001b[0m\u001b[0;34m\u001b[0m\u001b[0;34m\u001b[0m\u001b[0;34m\u001b[0m\u001b[0m\n\u001b[0;32m---> 11\u001b[0;31m \u001b[0mhmm_lls\u001b[0m \u001b[0;34m=\u001b[0m \u001b[0mhmm\u001b[0m\u001b[0;34m.\u001b[0m\u001b[0mfit\u001b[0m\u001b[0;34m(\u001b[0m\u001b[0msynthetic_data\u001b[0m\u001b[0;34m,\u001b[0m \u001b[0mmethod\u001b[0m\u001b[0;34m=\u001b[0m\u001b[0;34m\"em\"\u001b[0m\u001b[0;34m,\u001b[0m \u001b[0mnum_iters\u001b[0m\u001b[0;34m=\u001b[0m\u001b[0mN_iters\u001b[0m\u001b[0;34m)\u001b[0m\u001b[0;34m\u001b[0m\u001b[0;34m\u001b[0m\u001b[0m\n\u001b[0m\u001b[1;32m     12\u001b[0m \u001b[0;34m\u001b[0m\u001b[0m\n\u001b[1;32m     13\u001b[0m \u001b[0;31m#Plot log-likelihood over iterations compared to the baseline log-likelihood we calculated earlier\u001b[0m\u001b[0;34m\u001b[0m\u001b[0;34m\u001b[0m\u001b[0;34m\u001b[0m\u001b[0m\n",
      "\u001b[0;32m~/ssm/ssm/util.py\u001b[0m in \u001b[0;36mwrapper\u001b[0;34m(self, datas, inputs, masks, tags, **kwargs)\u001b[0m\n\u001b[1;32m    109\u001b[0m             \u001b[0mtags\u001b[0m \u001b[0;34m=\u001b[0m \u001b[0;34m[\u001b[0m\u001b[0mtags\u001b[0m\u001b[0;34m]\u001b[0m\u001b[0;34m\u001b[0m\u001b[0;34m\u001b[0m\u001b[0m\n\u001b[1;32m    110\u001b[0m \u001b[0;34m\u001b[0m\u001b[0m\n\u001b[0;32m--> 111\u001b[0;31m         \u001b[0;32mreturn\u001b[0m \u001b[0mf\u001b[0m\u001b[0;34m(\u001b[0m\u001b[0mself\u001b[0m\u001b[0;34m,\u001b[0m \u001b[0mdatas\u001b[0m\u001b[0;34m,\u001b[0m \u001b[0minputs\u001b[0m\u001b[0;34m=\u001b[0m\u001b[0minputs\u001b[0m\u001b[0;34m,\u001b[0m \u001b[0mmasks\u001b[0m\u001b[0;34m=\u001b[0m\u001b[0mmasks\u001b[0m\u001b[0;34m,\u001b[0m \u001b[0mtags\u001b[0m\u001b[0;34m=\u001b[0m\u001b[0mtags\u001b[0m\u001b[0;34m,\u001b[0m \u001b[0;34m**\u001b[0m\u001b[0mkwargs\u001b[0m\u001b[0;34m)\u001b[0m\u001b[0;34m\u001b[0m\u001b[0;34m\u001b[0m\u001b[0m\n\u001b[0m\u001b[1;32m    112\u001b[0m \u001b[0;34m\u001b[0m\u001b[0m\n\u001b[1;32m    113\u001b[0m     \u001b[0;32mreturn\u001b[0m \u001b[0mwrapper\u001b[0m\u001b[0;34m\u001b[0m\u001b[0;34m\u001b[0m\u001b[0m\n",
      "\u001b[0;32m~/ssm/ssm/hmm.py\u001b[0m in \u001b[0;36mfit\u001b[0;34m(self, datas, inputs, masks, tags, verbose, method, initialize, **kwargs)\u001b[0m\n\u001b[1;32m    481\u001b[0m \u001b[0;34m\u001b[0m\u001b[0m\n\u001b[1;32m    482\u001b[0m         \u001b[0;32mif\u001b[0m \u001b[0minitialize\u001b[0m\u001b[0;34m:\u001b[0m\u001b[0;34m\u001b[0m\u001b[0;34m\u001b[0m\u001b[0m\n\u001b[0;32m--> 483\u001b[0;31m             \u001b[0mself\u001b[0m\u001b[0;34m.\u001b[0m\u001b[0minitialize\u001b[0m\u001b[0;34m(\u001b[0m\u001b[0mdatas\u001b[0m\u001b[0;34m,\u001b[0m \u001b[0minputs\u001b[0m\u001b[0;34m=\u001b[0m\u001b[0minputs\u001b[0m\u001b[0;34m,\u001b[0m \u001b[0mmasks\u001b[0m\u001b[0;34m=\u001b[0m\u001b[0mmasks\u001b[0m\u001b[0;34m,\u001b[0m \u001b[0mtags\u001b[0m\u001b[0;34m=\u001b[0m\u001b[0mtags\u001b[0m\u001b[0;34m)\u001b[0m\u001b[0;34m\u001b[0m\u001b[0;34m\u001b[0m\u001b[0m\n\u001b[0m\u001b[1;32m    484\u001b[0m \u001b[0;34m\u001b[0m\u001b[0m\n\u001b[1;32m    485\u001b[0m         if isinstance(self.transitions,\n",
      "\u001b[0;32m~/ssm/ssm/util.py\u001b[0m in \u001b[0;36mwrapper\u001b[0;34m(self, datas, inputs, masks, tags, **kwargs)\u001b[0m\n\u001b[1;32m    109\u001b[0m             \u001b[0mtags\u001b[0m \u001b[0;34m=\u001b[0m \u001b[0;34m[\u001b[0m\u001b[0mtags\u001b[0m\u001b[0;34m]\u001b[0m\u001b[0;34m\u001b[0m\u001b[0;34m\u001b[0m\u001b[0m\n\u001b[1;32m    110\u001b[0m \u001b[0;34m\u001b[0m\u001b[0m\n\u001b[0;32m--> 111\u001b[0;31m         \u001b[0;32mreturn\u001b[0m \u001b[0mf\u001b[0m\u001b[0;34m(\u001b[0m\u001b[0mself\u001b[0m\u001b[0;34m,\u001b[0m \u001b[0mdatas\u001b[0m\u001b[0;34m,\u001b[0m \u001b[0minputs\u001b[0m\u001b[0;34m=\u001b[0m\u001b[0minputs\u001b[0m\u001b[0;34m,\u001b[0m \u001b[0mmasks\u001b[0m\u001b[0;34m=\u001b[0m\u001b[0mmasks\u001b[0m\u001b[0;34m,\u001b[0m \u001b[0mtags\u001b[0m\u001b[0;34m=\u001b[0m\u001b[0mtags\u001b[0m\u001b[0;34m,\u001b[0m \u001b[0;34m**\u001b[0m\u001b[0mkwargs\u001b[0m\u001b[0;34m)\u001b[0m\u001b[0;34m\u001b[0m\u001b[0;34m\u001b[0m\u001b[0m\n\u001b[0m\u001b[1;32m    112\u001b[0m \u001b[0;34m\u001b[0m\u001b[0m\n\u001b[1;32m    113\u001b[0m     \u001b[0;32mreturn\u001b[0m \u001b[0mwrapper\u001b[0m\u001b[0;34m\u001b[0m\u001b[0;34m\u001b[0m\u001b[0m\n",
      "\u001b[0;32m~/ssm/ssm/hmm.py\u001b[0m in \u001b[0;36minitialize\u001b[0;34m(self, datas, inputs, masks, tags)\u001b[0m\n\u001b[1;32m    145\u001b[0m         \u001b[0mself\u001b[0m\u001b[0;34m.\u001b[0m\u001b[0minit_state_distn\u001b[0m\u001b[0;34m.\u001b[0m\u001b[0minitialize\u001b[0m\u001b[0;34m(\u001b[0m\u001b[0mdatas\u001b[0m\u001b[0;34m,\u001b[0m \u001b[0minputs\u001b[0m\u001b[0;34m=\u001b[0m\u001b[0minputs\u001b[0m\u001b[0;34m,\u001b[0m \u001b[0mmasks\u001b[0m\u001b[0;34m=\u001b[0m\u001b[0mmasks\u001b[0m\u001b[0;34m,\u001b[0m \u001b[0mtags\u001b[0m\u001b[0;34m=\u001b[0m\u001b[0mtags\u001b[0m\u001b[0;34m)\u001b[0m\u001b[0;34m\u001b[0m\u001b[0;34m\u001b[0m\u001b[0m\n\u001b[1;32m    146\u001b[0m         \u001b[0mself\u001b[0m\u001b[0;34m.\u001b[0m\u001b[0mtransitions\u001b[0m\u001b[0;34m.\u001b[0m\u001b[0minitialize\u001b[0m\u001b[0;34m(\u001b[0m\u001b[0mdatas\u001b[0m\u001b[0;34m,\u001b[0m \u001b[0minputs\u001b[0m\u001b[0;34m=\u001b[0m\u001b[0minputs\u001b[0m\u001b[0;34m,\u001b[0m \u001b[0mmasks\u001b[0m\u001b[0;34m=\u001b[0m\u001b[0mmasks\u001b[0m\u001b[0;34m,\u001b[0m \u001b[0mtags\u001b[0m\u001b[0;34m=\u001b[0m\u001b[0mtags\u001b[0m\u001b[0;34m)\u001b[0m\u001b[0;34m\u001b[0m\u001b[0;34m\u001b[0m\u001b[0m\n\u001b[0;32m--> 147\u001b[0;31m         \u001b[0mself\u001b[0m\u001b[0;34m.\u001b[0m\u001b[0mobservations\u001b[0m\u001b[0;34m.\u001b[0m\u001b[0minitialize\u001b[0m\u001b[0;34m(\u001b[0m\u001b[0mdatas\u001b[0m\u001b[0;34m,\u001b[0m \u001b[0minputs\u001b[0m\u001b[0;34m=\u001b[0m\u001b[0minputs\u001b[0m\u001b[0;34m,\u001b[0m \u001b[0mmasks\u001b[0m\u001b[0;34m=\u001b[0m\u001b[0mmasks\u001b[0m\u001b[0;34m,\u001b[0m \u001b[0mtags\u001b[0m\u001b[0;34m=\u001b[0m\u001b[0mtags\u001b[0m\u001b[0;34m)\u001b[0m\u001b[0;34m\u001b[0m\u001b[0;34m\u001b[0m\u001b[0m\n\u001b[0m\u001b[1;32m    148\u001b[0m \u001b[0;34m\u001b[0m\u001b[0m\n\u001b[1;32m    149\u001b[0m     \u001b[0;32mdef\u001b[0m \u001b[0mpermute\u001b[0m\u001b[0;34m(\u001b[0m\u001b[0mself\u001b[0m\u001b[0;34m,\u001b[0m \u001b[0mperm\u001b[0m\u001b[0;34m)\u001b[0m\u001b[0;34m:\u001b[0m\u001b[0;34m\u001b[0m\u001b[0;34m\u001b[0m\u001b[0m\n",
      "\u001b[0;32m~/ssm/ssm/util.py\u001b[0m in \u001b[0;36mwrapper\u001b[0;34m(self, datas, inputs, masks, tags, **kwargs)\u001b[0m\n\u001b[1;32m    109\u001b[0m             \u001b[0mtags\u001b[0m \u001b[0;34m=\u001b[0m \u001b[0;34m[\u001b[0m\u001b[0mtags\u001b[0m\u001b[0;34m]\u001b[0m\u001b[0;34m\u001b[0m\u001b[0;34m\u001b[0m\u001b[0m\n\u001b[1;32m    110\u001b[0m \u001b[0;34m\u001b[0m\u001b[0m\n\u001b[0;32m--> 111\u001b[0;31m         \u001b[0;32mreturn\u001b[0m \u001b[0mf\u001b[0m\u001b[0;34m(\u001b[0m\u001b[0mself\u001b[0m\u001b[0;34m,\u001b[0m \u001b[0mdatas\u001b[0m\u001b[0;34m,\u001b[0m \u001b[0minputs\u001b[0m\u001b[0;34m=\u001b[0m\u001b[0minputs\u001b[0m\u001b[0;34m,\u001b[0m \u001b[0mmasks\u001b[0m\u001b[0;34m=\u001b[0m\u001b[0mmasks\u001b[0m\u001b[0;34m,\u001b[0m \u001b[0mtags\u001b[0m\u001b[0;34m=\u001b[0m\u001b[0mtags\u001b[0m\u001b[0;34m,\u001b[0m \u001b[0;34m**\u001b[0m\u001b[0mkwargs\u001b[0m\u001b[0;34m)\u001b[0m\u001b[0;34m\u001b[0m\u001b[0;34m\u001b[0m\u001b[0m\n\u001b[0m\u001b[1;32m    112\u001b[0m \u001b[0;34m\u001b[0m\u001b[0m\n\u001b[1;32m    113\u001b[0m     \u001b[0;32mreturn\u001b[0m \u001b[0mwrapper\u001b[0m\u001b[0;34m\u001b[0m\u001b[0;34m\u001b[0m\u001b[0m\n",
      "\u001b[0;32m~/ssm/ssm/observations.py\u001b[0m in \u001b[0;36minitialize\u001b[0;34m(self, datas, inputs, masks, tags)\u001b[0m\n\u001b[1;32m    115\u001b[0m                            for k in range(self.K)])\n\u001b[1;32m    116\u001b[0m         \u001b[0;32massert\u001b[0m \u001b[0mnp\u001b[0m\u001b[0;34m.\u001b[0m\u001b[0mall\u001b[0m\u001b[0;34m(\u001b[0m\u001b[0mnp\u001b[0m\u001b[0;34m.\u001b[0m\u001b[0misfinite\u001b[0m\u001b[0;34m(\u001b[0m\u001b[0mSigmas\u001b[0m\u001b[0;34m)\u001b[0m\u001b[0;34m)\u001b[0m\u001b[0;34m\u001b[0m\u001b[0;34m\u001b[0m\u001b[0m\n\u001b[0;32m--> 117\u001b[0;31m         \u001b[0mself\u001b[0m\u001b[0;34m.\u001b[0m\u001b[0m_sqrt_Sigmas\u001b[0m \u001b[0;34m=\u001b[0m \u001b[0mnp\u001b[0m\u001b[0;34m.\u001b[0m\u001b[0mlinalg\u001b[0m\u001b[0;34m.\u001b[0m\u001b[0mcholesky\u001b[0m\u001b[0;34m(\u001b[0m\u001b[0mSigmas\u001b[0m \u001b[0;34m+\u001b[0m \u001b[0;36m1e-8\u001b[0m \u001b[0;34m*\u001b[0m \u001b[0mnp\u001b[0m\u001b[0;34m.\u001b[0m\u001b[0meye\u001b[0m\u001b[0;34m(\u001b[0m\u001b[0mself\u001b[0m\u001b[0;34m.\u001b[0m\u001b[0mD\u001b[0m\u001b[0;34m)\u001b[0m\u001b[0;34m)\u001b[0m\u001b[0;34m\u001b[0m\u001b[0;34m\u001b[0m\u001b[0m\n\u001b[0m\u001b[1;32m    118\u001b[0m \u001b[0;34m\u001b[0m\u001b[0m\n\u001b[1;32m    119\u001b[0m     \u001b[0;32mdef\u001b[0m \u001b[0mlog_likelihoods\u001b[0m\u001b[0;34m(\u001b[0m\u001b[0mself\u001b[0m\u001b[0;34m,\u001b[0m \u001b[0mdata\u001b[0m\u001b[0;34m,\u001b[0m \u001b[0minput\u001b[0m\u001b[0;34m,\u001b[0m \u001b[0mmask\u001b[0m\u001b[0;34m,\u001b[0m \u001b[0mtag\u001b[0m\u001b[0;34m)\u001b[0m\u001b[0;34m:\u001b[0m\u001b[0;34m\u001b[0m\u001b[0;34m\u001b[0m\u001b[0m\n",
      "\u001b[0;31mValueError\u001b[0m: operands could not be broadcast together with shapes (5,2,2) (10,10) "
     ]
    }
   ],
   "source": [
    "N_iters = 50\n",
    "num_states = 5    # number of discrete states\n",
    "obs_dim = 10       # dimensionality of observation\n",
    "\n",
    "##===== Create HMM object to fit =====## \n",
    "hmm = ssm.HMM(num_states, obs_dim, observations=\"gaussian\")\n",
    "\n",
    "#This beautiful line of code hides all the business of fitting Hidden Markov models to data under the hood.\n",
    "#Go look at the source code and marvel at how code should be written. \n",
    "# hmm_lls = hmm.fit(synthetic_data, method=\"em\", num_iters=N_iters, init_method=\"kmeans\")\n",
    "hmm_lls = hmm.fit(synthetic_data, method=\"em\", num_iters=N_iters)\n",
    "\n",
    "#Plot log-likelihood over iterations compared to the baseline log-likelihood we calculated earlier\n",
    "plt.plot(hmm_lls, label=\"EM\")\n",
    "plt.plot([0, N_iters], true_ll * np.ones(2), ':k', label=\"True\")\n",
    "plt.xlabel(\"EM Iteration\")\n",
    "plt.ylabel(\"Log Probability\")\n",
    "plt.legend(loc=\"lower right\")\n",
    "plt.show()"
   ]
  },
  {
   "cell_type": "markdown",
   "metadata": {
    "nbpresent": {
     "id": "f9335974-fcee-4a2e-827f-b22a12ed688f"
    }
   },
   "source": [
    "The below cell is a bit subtle. In the first section, we sampled from the HMM and stored the resulting latent state $z$ in a variable called `state`. \n",
    "Now, we are treating our observations from the previous section as data, and seeing whether we can infer the true state given only the observations. However, there is no guarantee that the states we learn correspond to the original states from the true HMM. In order to account for this, we need to find a permutation of the states of our new HMM so that they align with the states of the true HMM from the prior section. This is done in the following two lines:\n",
    "\n",
    "`most_likely_states = hmm.most_likely_states(obs)\n",
    "hmm.permute(find_permutation(true_states, most_likely_states))\n",
    "`  \n",
    "  \n",
    "In the first line, we use the `most_likely_states` method to infer the most likely latent states given the observations.  In the second line we call the `find_permutation` function the permutation that best matches the true state. We then use the `permute` method on our `hmm` instance to permute its states accordingly.\n",
    "\n"
   ]
  },
  {
   "cell_type": "code",
   "execution_count": null,
   "metadata": {
    "nbpresent": {
     "id": "35947156-e3a9-44d6-ab79-aea66d05cda7"
    }
   },
   "outputs": [],
   "source": [
    "# Find a permutation of the states that best matches the true and inferred states\n",
    "#Use viterbi method to detmerine most likely state \n",
    "most_likely_states = hmm.most_likely_states(synthetic_data)\n",
    "hmm.permute(find_permutation(true_states, most_likely_states))"
   ]
  },
  {
   "cell_type": "markdown",
   "metadata": {
    "nbpresent": {
     "id": "03d4efcd-66a8-4e0b-8558-6df4658382d4"
    }
   },
   "source": [
    "Below, we plot the inferred states ($z_{\\mathrm{inferred}}$) and the true states ($z_{\\mathrm{true}}$) over time. We see that the two match very closely, but not exactly. The model sometimes has difficulty inferring the state if we only observe that state for a very short time."
   ]
  },
  {
   "cell_type": "code",
   "execution_count": null,
   "metadata": {
    "nbpresent": {
     "id": "84b20c35-4187-4b2b-8287-c99212f17a4b"
    }
   },
   "outputs": [],
   "source": [
    "##===== Exercise =====##\n",
    "# Plot the true and inferred discrete states; How do they compare?\n",
    "hmm_z = hmm.most_likely_states(synthetic_data)\n",
    "\n"
   ]
  },
  {
   "cell_type": "markdown",
   "metadata": {
    "nbpresent": {
     "id": "747730ff-ab9a-4aff-9da4-6e7b203d2aa6"
    }
   },
   "source": [
    "### Exercise: visualize the Transition Matrices\n",
    "The dynamics of the hidden state in an HMM are specified by the transition probabilities $p(z_t \\mid z_{t-1})$. It's standard to pack these probabilities into a stochastic matrix $A$ where $A_{ij} = p(z_t = j \\mid z_{t-1} = i)$.\n",
    "\n",
    "In SSM, we can access the transition matrices using `hmm.transitions.transition` matrix. In the following two lines, we retrives the transition matrices for the true HMM, as well as the HMM we learned from the data, and compare them visually."
   ]
  },
  {
   "cell_type": "code",
   "execution_count": null,
   "metadata": {
    "nbpresent": {
     "id": "67124d1b-c672-47a1-92cc-5538012bcd48"
    }
   },
   "outputs": [],
   "source": [
    "##===== Exercise =====##\n",
    "# Plot the true and inferred discrete states; How do they compare?\n",
    "true_transition_mat = true_hmm.transitions.transition_matrix\n",
    "learned_transition_mat = hmm.transitions.transition_matrix\n",
    "\n"
   ]
  },
  {
   "cell_type": "markdown",
   "metadata": {},
   "source": [
    "# Model Selection\n",
    "\n",
    "This is great and all, but what do you do if you don't know how many latent states are needed to describe the data? Model selection is an iterative process of fitting models with different model parameters on training data and calculating the log-likelihood on heldout data. The goal is to find a peak in the log-likelihood at which point increasing the model parameter of interest (in our case, the # of latent states) actually makes the model fit worse. In practice, log-likelihood plots rarely peak, but plateau very slowly as the model adds more and more parameters. Various methods, including Bayesian Information Criterion, incorporate the # of model parameters into the measure of model selection, effectively putting a penalty on adding more model paramters. \n",
    "\n",
    "$$\n",
    "BIC = k ln(n) - 2 LL\n",
    "$$\n",
    "\n",
    "where k is the # of parameters of the model and n is the # of data points.\n",
    "\n",
    "What we will find is that our model selection does indeed reveal that 5 states is the best to fit our model to the data,which is what we expect! This is shown as the elbow in the curve of the log-likehood (the \"elbow method\" before the plateau) plots and in the minimum in the BIC measure. "
   ]
  },
  {
   "cell_type": "code",
   "execution_count": null,
   "metadata": {},
   "outputs": [],
   "source": [
    "from sklearn.model_selection import KFold\n",
    "\n",
    "##===== K-fold Cross-Validation =====##\n",
    "#There's no avoiding it! \n",
    "\n",
    "#Generate more data for cross-validation\n",
    "time_bins = 10000\n",
    "true_states, synthetic_data = true_hmm.sample(time_bins)\n",
    "\n",
    "#Create kfold cross-validation object which will split data for us\n",
    "nKfold = 5\n",
    "kf = KFold(n_splits=nKfold, shuffle=True, random_state=None)\n",
    "\n",
    "#Just for sanity's sake, let's check how it splits the data\n",
    "#So 5-fold cross-validation uses 80% of the data to train the model, and holds 20% for testing\n",
    "for ii, (train_index, test_index) in enumerate(kf.split(synthetic_data)):\n",
    "    print(f\"kfold {ii} TRAIN:\", len(train_index), \"TEST:\", len(test_index))\n",
    "    \n",
    "#10 different nnumber of latent states\n",
    "#5-fold cross-validation\n",
    "#That's 50 model fits! Thankfully this can be parallelized fairly easily\n",
    "max_states = 10\n",
    "ll_training = np.zeros((max_states,nKfold))\n",
    "ll_heldout = np.zeros((max_states,nKfold))\n",
    "BIC_heldout = np.zeros((max_states,nKfold))\n",
    "\n",
    "hmm_z_ms = np.zeros((max_states,time_bins))\n",
    "#Outer loop over the parameter for which you're doing model selection for\n",
    "for iS, num_states in enumerate(range(1,max_states+1)):\n",
    "    #Number of parameters for the model: (transition matrix) + (mean values for each state) + (covariance matrix for each state)\n",
    "    K = num_states*num_states + num_states*obs_dim + num_states*obs_dim\n",
    "    \n",
    "    #Inner loop over kfolds\n",
    "    for iK, (train_index, test_index) in enumerate(kf.split(synthetic_data)):\n",
    "        nTrain = len(train_index); nTest = len(test_index)#*obs_dim\n",
    "        \n",
    "        #Split data\n",
    "        training_data = synthetic_data[train_index]\n",
    "        test_data = synthetic_data[test_index]\n",
    "        \n",
    "        #Create HMM object to fit\n",
    "        hmm = ssm.HMM(num_states, obs_dim, observations=\"gaussian\")\n",
    "\n",
    "        #fit on training data\n",
    "        hmm_lls = hmm.fit(training_data, method=\"em\", num_iters=N_iters)#, init_method=\"kmeans\")\n",
    "        \n",
    "        #Compute log-likelihood for each dataset\n",
    "        ll_training[iS,iK] = hmm.log_probability(training_data)/nTrain\n",
    "        ll_heldout[iS,iK] = hmm.log_probability(test_data)/nTest\n",
    "        \n",
    "        #Let's calculate the BIC as well for this\n",
    "        BIC_heldout[iS,iK] = K*np.log(nTest) - 2*hmm.log_probability(test_data)\n",
    "        \n",
    "    #Let's do a full model fit and get the state-sequence\n",
    "    hmm = ssm.HMM(num_states, obs_dim, observations=\"gaussian\")\n",
    "    hmm_lls = hmm.fit(synthetic_data, method=\"em\", num_iters=N_iters)\n",
    "    most_likely_states = hmm.most_likely_states(synthetic_data)\n",
    "    \n",
    "    hmm_z_ms[iS,:] = hmm.most_likely_states(synthetic_data)\n",
    "\n",
    "    \n",
    "        "
   ]
  },
  {
   "cell_type": "code",
   "execution_count": null,
   "metadata": {},
   "outputs": [],
   "source": [
    "##===== Exercise =====##\n",
    "#Plot the log-likelihood of the training and test datasets, as well as the Bayesian Information Criterion; What do they tell you?\n",
    "\n",
    "\n"
   ]
  },
  {
   "cell_type": "code",
   "execution_count": null,
   "metadata": {},
   "outputs": [],
   "source": [
    "## Generate more data with true_hmm\n",
    "time_bins = 10000\n",
    "true_states, synthetic_data = true_hmm.sample(time_bins)\n",
    "\n",
    "#As a baseline, let's calculate the log proability of the synthetic data given the current model parameters\n",
    "true_ll = true_hmm.log_probability(synthetic_data)"
   ]
  },
  {
   "cell_type": "code",
   "execution_count": null,
   "metadata": {},
   "outputs": [],
   "source": [
    "#Let's fit a HMM one more time, but instead of using the verberti method to obtain the most-likely latent state sequence,\n",
    "#we will get the Maximum a posteriori estimation of the latent state sequence. this way, we can impose a probability threshold \n",
    "#and look at only time points where the model is sure it found the right state; this is usually what you want to do because you don't really know if the model is doing a good job capturing the complexity of the data\n",
    "num_states = 5\n",
    "\n",
    "#Let's do a full model fit and get the state-sequence\n",
    "hmm = ssm.HMM(num_states, obs_dim, observations=\"gaussian\")\n",
    "hmm_lls = hmm.fit(synthetic_data, method=\"em\", num_iters=N_iters)\n",
    "\n",
    "#For visualization purposes\n",
    "most_likely_states = hmm.most_likely_states(synthetic_data)\n",
    "hmm.permute(find_permutation(true_states, most_likely_states))\n",
    "most_likely_states = hmm.most_likely_states(synthetic_data)\n",
    "\n",
    "#Look at this one line magic! One line\n",
    "posterior_probabilities, expected_joints, log_likes = hmm.expected_states(synthetic_data)\n",
    "\n",
    "##===== Exercise =====##\n",
    "#Plot the posterior probabilities together and obtain the MAP estimate of the lateatent state sequence\n",
    "\n"
   ]
  },
  {
   "cell_type": "markdown",
   "metadata": {
    "nbpresent": {
     "id": "e358a229-5f00-4a6c-9b13-011d2afff30c"
    }
   },
   "source": [
    "# Post-Fitting Exercises \n",
    "I always tell people that the hard part about fitting a state-space model to data is not the inference part, but the post-fit analysis and interpretation. The hard part of inference is done for us by Scott Linderman and company in this handy SSM package. What you get out of a successful HMM fit is a state sequence and the associated posterior probabilities. Since it's your data, it's your job to make sense of the segmentation done for you by the HMM. Some questions you can ask: do state transitions occur at specific points in a trial? Or during a particular behavior? Do some states last longer than others? what aspect of the data does each state capture. In the case of of a simple gaussian HMM, this is easy to answer. the mean and variance of each state. For an ARHMM though, what do the AR matrices capture? Similarly for the more complicated state space models.\n",
    "\n",
    "For our simple gaussian HMM, let's look at how well the model did at classifying each datapoint to its corresponding latent state. I chose a random seed at the beginning of the notebook so these distributions would be well separate. If you generated a new \"ground truth\" model from which to produce synthetic data from, you might get overlapping distributions that may not be as easy to separate with another HMM. Try it out! \n",
    "\n",
    "\n",
    "> - State Duration distributions\n",
    "> - State Usage, overall and per trial\n",
    "> - Model Parameters characterizing each state\n",
    "> - State transition points relative to other variables important to an experiment (task variables, behavior, etc)"
   ]
  },
  {
   "cell_type": "code",
   "execution_count": null,
   "metadata": {},
   "outputs": [],
   "source": [
    "synthetic_data_sub = synthetic_data[:1000]\n",
    "most_likely_states_sub = most_likely_states[:1000]\n",
    "true_states_sub = true_states[:1000]\n",
    "##===== Plot the observation distributions =====##\n",
    "lim = .85 * abs(synthetic_data_sub).max()\n",
    "\n",
    "#create mesh grid\n",
    "XX, YY = np.meshgrid(np.linspace(-lim, lim, 100), np.linspace(-lim, lim, 100))\n",
    "data = np.column_stack((XX.ravel(), YY.ravel()))\n",
    "\n",
    "#Get log-likelihood of mesh grid so we can plot the probability density\n",
    "lls = hmm.observations.log_likelihoods(data, np.zeros((data.shape[0], 0)), np.ones_like(data, dtype=bool), None)\n",
    "\n",
    "fig, axes = plt.subplots(1,2,figsize=(12, 6))\n",
    "\n",
    "ax = axes[0]\n",
    "for k in range(num_states):\n",
    "    ax.contour(XX, YY, np.exp(lls[:,k]).reshape(XX.shape), cmap=white_to_color_cmap(colors[k]))\n",
    "    ax.plot(synthetic_data_sub[most_likely_states_sub==k, 0], synthetic_data_sub[most_likely_states_sub==k, 1], 'o', mfc=colors[k], mec='none', ms=4)\n",
    "    ax.plot(hmm.observations.mus[k].T,'*',color=colors[k])\n",
    "    \n",
    "ax.plot(synthetic_data_sub[:,0], synthetic_data_sub[:,1], '-k', lw=1, alpha=.25)\n",
    "ax.set_xlabel(\"$x_1$\")\n",
    "ax.set_ylabel(\"$x_2$\")\n",
    "ax.set_title(\"Inferred Observation Distributions\")\n",
    "\n",
    "#Get log-likelihood of mesh grid so we can plot the probability density\n",
    "lls = true_hmm.observations.log_likelihoods(data, np.zeros((data.shape[0], 0)), np.ones_like(data, dtype=bool), None)\n",
    "\n",
    "ax = axes[1]\n",
    "for k in range(num_states):\n",
    "    ax.contour(XX, YY, np.exp(lls[:,k]).reshape(XX.shape), cmap=white_to_color_cmap(colors[k]))\n",
    "    ax.plot(synthetic_data_sub[true_states_sub==k, 0], synthetic_data_sub[true_states_sub==k, 1], 'o', mfc=colors[k], mec='none', ms=4)\n",
    "    ax.plot(true_hmm.observations.mus[k].T,'*',color=colors[k])\n",
    "    \n",
    "ax.plot(synthetic_data_sub[:,0], synthetic_data_sub[:,1], '-k', lw=1, alpha=.25)\n",
    "ax.set_xlabel(\"$x_1$\")\n",
    "ax.set_ylabel(\"$x_2$\")\n",
    "ax.set_title(\"True Observation Distributions\")"
   ]
  },
  {
   "cell_type": "markdown",
   "metadata": {},
   "source": [
    "# Poisson HMM\n",
    "Let's do a similar exercise - generating data from a 'ground-truth model' and then fitting a separate HMM to the data, but using a poisson observation model instead of gaussian. "
   ]
  },
  {
   "cell_type": "code",
   "execution_count": null,
   "metadata": {},
   "outputs": [],
   "source": [
    "##===== Let's create a ground-truth HMM from which to generate data from =====##\n",
    "# Set the parameters of the HMM\n",
    "time_bins = 1000   # number of time bins\n",
    "num_states = 5     # number of discrete states\n",
    "nNeurons = 100     # number of neurons\n",
    "obs_dim = nNeurons # dimensionality of observation\n",
    "\n",
    "# Make an HMM\n",
    "true_hmm = ssm.HMM(num_states, obs_dim, observations=\"poisson\")\n",
    "\n",
    "#Let's specify the firing rate vectors ourselves\n",
    "true_firing_rates = np.zeros((num_states,nNeurons))\n",
    "\n",
    "#Let's also specify the max firing rate (spikes/time-step, not Hz)\n",
    "max_firing_rates = [20, 30, 5, 25, 15]\n",
    "for k, mFR in enumerate(max_firing_rates):\n",
    "    true_firing_rates[k,:] = np.random.rand(1,nNeurons)*mFR"
   ]
  },
  {
   "cell_type": "code",
   "execution_count": null,
   "metadata": {},
   "outputs": [],
   "source": [
    "##===== Use HMM as a generative model =====##\n",
    "time_bins = 1000\n",
    "true_states, synthetic_spikes = true_hmm.sample(time_bins)\n",
    "\n",
    "#As a baseline, let's calculate the log proability of the synthetic data given the current model parameters\n",
    "true_ll = true_hmm.log_probability(synthetic_spikes)"
   ]
  },
  {
   "cell_type": "markdown",
   "metadata": {},
   "source": [
    "Again let's look at the observations synthetic data and the corresponding latent state sequence which generated it. It should be fairly obvious by eye when a state change occurs. Maybe a bit more obvious than real data :)"
   ]
  },
  {
   "cell_type": "code",
   "execution_count": null,
   "metadata": {},
   "outputs": [],
   "source": [
    "fig, axes = plt.subplots(2,1,figsize=(8, 10),gridspec_kw={'height_ratios':[10,1]})\n",
    "\n",
    "tPlot = 250\n",
    "axes[0].imshow(synthetic_spikes[:tPlot].T,\n",
    "           aspect=\"auto\",\n",
    "           cmap='gray_r',\n",
    "           extent=(0, tPlot, 0, nNeurons))\n",
    "\n",
    "axes[0].set_ylabel('Neuron ID')\n",
    "\n",
    "axes[1].imshow(true_states[None,:tPlot], aspect=\"auto\", cmap=cmap, vmin=0, vmax=len(colors)-1)"
   ]
  },
  {
   "cell_type": "markdown",
   "metadata": {},
   "source": [
    "# Exercise: Fit poisson HMM to synthetic data and compare the inferred state sequence to that of the true state sequence"
   ]
  },
  {
   "cell_type": "code",
   "execution_count": null,
   "metadata": {},
   "outputs": [],
   "source": []
  },
  {
   "cell_type": "markdown",
   "metadata": {},
   "source": [
    "**Forget about this below**\n",
    "\n",
    "Alternative model selection within a single session. Create folds with consecutive time points to preserve the time series."
   ]
  },
  {
   "cell_type": "code",
   "execution_count": null,
   "metadata": {},
   "outputs": [],
   "source": [
    "# from sklearn.model_selection import KFold\n",
    "from sklearn.utils import indexable\n",
    "from sklearn.utils.validation import _num_samples\n",
    "from sklearn.model_selection._split import _BaseKFold\n",
    "\n",
    "class GroupTimeSeriesSplit(_BaseKFold):\n",
    "    \"\"\"\n",
    "    Time Series cross-validator for a variable number of observations within the time \n",
    "    unit. In the kth split, it returns first k folds as train set and the (k+1)th fold \n",
    "    as test set. Indices can be grouped so that they enter the CV fold together.\n",
    "\n",
    "    Parameters\n",
    "    ----------\n",
    "    n_splits : int, default=5\n",
    "        Number of splits. Must be at least 2.\n",
    "    max_train_size : int, default=None\n",
    "        Maximum size for a single training set.\n",
    "    \"\"\"\n",
    "    def __init__(self, n_splits=5, *, max_train_size=None):\n",
    "        super().__init__(n_splits, shuffle=False, random_state=None)\n",
    "        self.max_train_size = max_train_size\n",
    "\n",
    "    def split(self, X, y=None, groups=None):\n",
    "        \"\"\"\n",
    "        Generate indices to split data into training and test set.\n",
    "\n",
    "        Parameters\n",
    "        ----------\n",
    "        X : array-like of shape (n_samples, n_features)\n",
    "            Training data, where n_samples is the number of samples and n_features is \n",
    "            the number of features.\n",
    "        y : array-like of shape (n_samples,)\n",
    "            Always ignored, exists for compatibility.\n",
    "        groups : array-like of shape (n_samples,)\n",
    "            Group labels for the samples used while splitting the dataset into \n",
    "            train/test set.\n",
    "            Most often just a time feature.\n",
    "\n",
    "        Yields\n",
    "        -------\n",
    "        train : ndarray\n",
    "            The training set indices for that split.\n",
    "        test : ndarray\n",
    "            The testing set indices for that split.\n",
    "        \"\"\"\n",
    "        n_splits = self.n_splits\n",
    "        X, y, groups = indexable(X, y, groups)\n",
    "        n_samples = _num_samples(X)\n",
    "        n_folds = n_splits + 1\n",
    "        indices = np.arange(n_samples)\n",
    "        group_counts = np.unique(groups, return_counts=True)[1]\n",
    "        groups = np.split(indices, np.cumsum(group_counts)[:-1])\n",
    "        n_groups = _num_samples(groups)\n",
    "        if n_folds > n_groups:\n",
    "            raise ValueError(\n",
    "                (\"Cannot have number of folds ={0} greater\"\n",
    "                 \" than the number of groups: {1}.\").format(n_folds, n_groups))\n",
    "        test_size = (n_groups // n_folds)\n",
    "        test_starts = range(test_size + n_groups % n_folds,\n",
    "                            n_groups, test_size)\n",
    "        for test_start in test_starts:\n",
    "            if self.max_train_size:\n",
    "                train_start = np.searchsorted(\n",
    "                    np.cumsum(\n",
    "                        group_counts[:test_start][::-1])[::-1] < self.max_train_size + 1, \n",
    "                        True)\n",
    "                yield (np.concatenate(groups[train_start:test_start]),\n",
    "                       np.concatenate(groups[test_start:test_start + test_size]))\n",
    "            else:\n",
    "                yield (np.concatenate(groups[:test_start]),\n",
    "                       np.concatenate(groups[test_start:test_start + test_size]))"
   ]
  }
 ],
 "metadata": {
  "kernelspec": {
   "display_name": "Python 3",
   "language": "python",
   "name": "python3"
  },
  "language_info": {
   "codemirror_mode": {
    "name": "ipython",
    "version": 3
   },
   "file_extension": ".py",
   "mimetype": "text/x-python",
   "name": "python",
   "nbconvert_exporter": "python",
   "pygments_lexer": "ipython3",
   "version": "3.7.7"
  }
 },
 "nbformat": 4,
 "nbformat_minor": 4
}
